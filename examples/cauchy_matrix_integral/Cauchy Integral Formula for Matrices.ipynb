{
 "cells": [
  {
   "cell_type": "code",
   "execution_count": null,
   "metadata": {},
   "outputs": [],
   "source": [
    "import numpy as np\n",
    "a_entries = [[3, 7, 2], [2, 1, 8], [3, 3, 1]]\n",
    "A = np.array(a_entries)\n",
    "evals = np.linalg.eigvals(A)\n",
    "print('spectral radius of A = {}'.format(np.max(np.abs(evals))))\n",
    "\n",
    "R = 1\n",
    "M = 32\n",
    "\n",
    "\n",
    "\n",
    "def exact_f(dt):\n",
    "\n",
    "    from numpy import array\n",
    "    from mpmath import expm, eye, matrix, mp\n",
    "    mp.dps = 100\n",
    "    \n",
    "    A = matrix(a_entries)\n",
    "    I = eye(len(a_entries))\n",
    "    f = (A**-1)*(expm(A*dt)-I)\n",
    "    return array(f.tolist(), dtype=float)\n",
    "\n",
    "def numpy_f(dt):\n",
    "    \n",
    "    from numpy import array, eye\n",
    "    from scipy.linalg import expm\n",
    "    from numpy.linalg import solve\n",
    "    \n",
    "    A = array(a_entries)\n",
    "    I = eye(len(a_entries))\n",
    "    return solve(A, expm(A*dt)-I)\n",
    "\n",
    "def cauchy_f(dt):\n",
    "        \n",
    "    from numpy import arange, array, exp, eye, pi, zeros\n",
    "    from numpy.linalg import inv\n",
    "    \n",
    "    dtheta = 2*pi/M\n",
    "    theta = arange(M)*dtheta\n",
    "    z = R*exp(1j*theta)\n",
    "    \n",
    "    n = len(a_entries)\n",
    "    A = array(a_entries)\n",
    "    I = eye(n)\n",
    "    \n",
    "    S = zeros((n,n), dtype=complex)\n",
    "    for i in range(M):\n",
    "        S += (exp(z[i])-1)*inv(z[i]*I - dt*A)\n",
    "        \n",
    "    return dt*S/M"
   ]
  },
  {
   "cell_type": "code",
   "execution_count": null,
   "metadata": {},
   "outputs": [],
   "source": [
    "import numpy as np\n",
    "print('|     dt     |     e1     |     e2    |')\n",
    "print('+------------+------------+-----------+')\n",
    "for i in range(30):\n",
    "    dt = 2**(-i)\n",
    "    f = exact_f(dt)\n",
    "    f1 = numpy_f(dt)\n",
    "    f2 = cauchy_f(dt)\n",
    "    e1 = np.max(np.abs(f1-f))/np.max(np.abs(f))\n",
    "    e2 = np.max(np.abs(f2-f))/np.max(np.abs(f))\n",
    "    print('| {:.3e}  | {:.3e}  | {:.3e} |'.format(dt, e1, e2))"
   ]
  },
  {
   "cell_type": "code",
   "execution_count": null,
   "metadata": {},
   "outputs": [],
   "source": []
  }
 ],
 "metadata": {
  "kernelspec": {
   "display_name": "Python 3",
   "language": "python",
   "name": "python3"
  },
  "language_info": {
   "codemirror_mode": {
    "name": "ipython",
    "version": 3
   },
   "file_extension": ".py",
   "mimetype": "text/x-python",
   "name": "python",
   "nbconvert_exporter": "python",
   "pygments_lexer": "ipython3",
   "version": "3.7.3"
  }
 },
 "nbformat": 4,
 "nbformat_minor": 2
}
