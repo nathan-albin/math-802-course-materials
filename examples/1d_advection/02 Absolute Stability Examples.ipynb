{
 "cells": [
  {
   "cell_type": "markdown",
   "metadata": {},
   "source": [
    "# Absolute Stability Examples"
   ]
  },
  {
   "cell_type": "code",
   "execution_count": null,
   "metadata": {},
   "outputs": [],
   "source": [
    "import numpy as np\n",
    "import matplotlib.pyplot as plt\n",
    "import scipy.sparse as sp\n",
    "import scipy.sparse.linalg as sla\n",
    "import fd_tools as fd"
   ]
  },
  {
   "cell_type": "markdown",
   "metadata": {},
   "source": [
    "## Introduction\n",
    "\n",
    "When boundary conditions are involved, von Neumann analysis doesn't tell the whole story.  For standard single-step and multi-step methods, we can try to ensure that the values $\\Delta t\\lambda$ lie inside the absolute stability region of the method.  Often, a good first step is to numerically compute the eigenvalues.  Below is a function that builds a finite difference approximation using $2w+1$ values at each point.  In the middle of the domain, the centered difference is used, near the boundaries, the stencils are biased, but still centered as much as possible.\n",
    "\n",
    "For example, if $w=1$ and the $\\{x_j\\}$ are arranged in an equispaced grid, then the derivative approximation produced will be\n",
    "\n",
    "$$\n",
    "D = \\frac{1}{\\Delta x}\n",
    "\\begin{bmatrix}\n",
    "-\\frac{3}{2} & 2 & -\\frac{1}{2} \\\\\n",
    "-\\frac{1}{2} & 0 & \\phantom{-}\\frac{1}{2} \\\\\n",
    "& -\\frac{1}{2} & 0 & \\phantom{-}\\frac{1}{2} \\\\\n",
    "& & -\\frac{1}{2} & 0 & \\phantom{-}\\frac{1}{2} \\\\\n",
    "& & & \\ddots & \\ddots & \\ddots \\\\\n",
    "& & & & -\\frac{1}{2} & \\phantom{-}0 & \\phantom{-}\\frac{1}{2} \\\\\n",
    "& & & & \\phantom{-}\\frac{1}{2} & -2 & \\phantom{-}\\frac{3}{2} \\\\\n",
    "\\end{bmatrix}\n",
    "$$"
   ]
  },
  {
   "cell_type": "code",
   "execution_count": null,
   "metadata": {},
   "outputs": [],
   "source": [
    "def first_deriv_matrix(x, w):\n",
    "    \n",
    "    I, J, data = [], [], []\n",
    "    n = len(x)\n",
    "    \n",
    "    # bias to the right until we can center\n",
    "    p = (2*w+1)\n",
    "    for i in range(w):\n",
    "        I.extend(p*[i])\n",
    "        J.extend(range(p))\n",
    "        data.extend(fd.fd_coeff(1, x[i], x[:p]))\n",
    "        \n",
    "    # now fill in centered differences\n",
    "    for i in range(w, n-w-1):\n",
    "        I.extend(p*[i])\n",
    "        J.extend(range(i-w, i+w+1))\n",
    "        data.extend(fd.fd_coeff(1, x[i], x[i-w:i+w+1]))\n",
    "\n",
    "    # bias to the left when we can't center anymore\n",
    "    for i in range(n-w-1, n):\n",
    "        I.extend(p*[i])\n",
    "        J.extend(range(n-p, n))\n",
    "        data.extend(fd.fd_coeff(1, x[i], x[n-p:]))\n",
    "        \n",
    "    return sp.csr_matrix((data, (I, J)))"
   ]
  },
  {
   "cell_type": "code",
   "execution_count": null,
   "metadata": {},
   "outputs": [],
   "source": [
    "def matrix_demo():\n",
    "    x = np.linspace(0, 9, 10)\n",
    "    D = first_deriv_matrix(x, 2)\n",
    "    print(np.round(D.toarray(), 3))\n",
    "    plt.spy(D)\n",
    "    \n",
    "matrix_demo()"
   ]
  },
  {
   "cell_type": "markdown",
   "metadata": {},
   "source": [
    "## Eigenvalues of what?\n",
    "\n",
    "In the MOL framework, we now want to solve the problem\n",
    "$$\n",
    "U' = -aDU,\\qquad U(0) = \\eta,\\qquad U_0(t) = g(t).\n",
    "$$\n",
    "As we discussed when talking about absolute stability, each of the standard ODE methods we've covered has an absolute stability region $\\mathcal{S}$ in the complex plane.  For stability of the PDE solver, we need to choose the time step $\\Delta t$ so that $\\Delta t\\lambda\\in\\mathcal{S}$ for every eigenvalue $\\lambda$ of our spatial operator.  But what exactly do we need to find the eigenvalues of?\n",
    "\n",
    "You might think that we need to look at the eigenvalues of $-aD$, but that's not quite right, since it doesn't take into account the boundary conditions on the left.  There are several ways of seeing what we really want to find the eigenvalues of.  Here's one way.  Suppose we are solving the advection problem using forward Euler in time and using the second-order accurate derivative matrix produced by the function above (with $w=1$).  Here is some pseudocode implementing that idea.\n",
    "\n",
    "```python\n",
    "# initialize u\n",
    "u = eta\n",
    "for it in range(1,num_iter+1):\n",
    "    \n",
    "    # update u using forward Euler\n",
    "    u = u - a*dt*D*u\n",
    "    \n",
    "    # fix the boundary conditions\n",
    "    u[0] = g(it*dt)\n",
    "```\n",
    "\n",
    "If we write the iteration scheme out carefully, it looks something like this:\n",
    "\\begin{align*}\n",
    "U_0^{j+1} &= g(t_{j+1})\\\\\n",
    "U_1^{j+1} &= U_1^{j} - \\frac{a\\Delta t}{2\\Delta x}\\left(U_2^j - g(t_j)\\right)\\\\\n",
    "U_2^{j+1} &= U_2^{j} - \\frac{a\\Delta t}{2\\Delta x}\\left(U_3^j - U_1^j\\right)\\\\\n",
    "U_3^{j+1} &= U_3^{j} - \\frac{a\\Delta t}{2\\Delta x}\\left(U_4^j - U_2^j\\right)\\\\\n",
    "&\\vdots\\\\\n",
    "U_{n-1}^{j+1} &= U_{n-1}^{j} - \\frac{a\\Delta t}{2\\Delta x}\\left(U_n^j - U_{n-2}^j\\right)\\\\\n",
    "U_{n}^{j+1} &= U_{n}^{j} - \\frac{a\\Delta t}{2\\Delta x}\\left(3U_n^j -4U_{n-1}^j + U_{n-2}^j\\right)\\\\\n",
    "\\end{align*}\n",
    "\n",
    "If we think of the vector\n",
    "$$\n",
    "\\tilde{U}^j = \n",
    "\\begin{bmatrix}\n",
    "U_1^j \\\\ U_2^j \\\\ \\vdots \\\\ U_n^j\n",
    "\\end{bmatrix}\n",
    "$$\n",
    "then, on each step $\\tilde{U}$ is updated by the formula\n",
    "$$\n",
    "\\tilde{U}^{j+1} = \\tilde{U}^j - a\\Delta t\\tilde{D}\\tilde{U}^j + b^j,\n",
    "$$\n",
    "where\n",
    "$$\n",
    "b^j = \\begin{bmatrix}\\frac{a\\Delta t}{2\\Delta x}g(t_j) \\\\ 0 \\\\ 0 \\\\ \\vdots \\\\ 0\\end{bmatrix}\n",
    "$$\n",
    "and\n",
    "$$\n",
    "\\tilde{D} = \n",
    "\\frac{1}{\\Delta x}\n",
    "\\begin{bmatrix}\n",
    "0 & \\phantom{-}\\frac{1}{2} \\\\\n",
    " -\\frac{1}{2} & 0 & \\phantom{-}\\frac{1}{2} \\\\\n",
    " & -\\frac{1}{2} & 0 & \\phantom{-}\\frac{1}{2} \\\\\n",
    " & & \\ddots & \\ddots & \\ddots \\\\\n",
    " & & & -\\frac{1}{2} & \\phantom{-}0 & \\phantom{-}\\frac{1}{2} \\\\\n",
    " & & & \\phantom{-}\\frac{1}{2} & -2 & \\phantom{-}\\frac{3}{2} \\\\\n",
    "\\end{bmatrix}.\n",
    "$$\n",
    "\n",
    "Note that $\\tilde{D}$ is the matrix we would obtain by removing the top row and left column of $D$.  Although the argument above isn't a complete proof, it does provide a good amount of insight into why the eigenvalues we want to consider are those of $-a\\tilde{D}$, not those of $-aD$.  "
   ]
  },
  {
   "cell_type": "code",
   "execution_count": null,
   "metadata": {},
   "outputs": [],
   "source": [
    "def plot_eigenvalues(a, nx, cfl, w):\n",
    "\n",
    "    dx = 0.1\n",
    "    dt = cfl*(dx/a)\n",
    "\n",
    "    x = np.arange(nx)*dx\n",
    "\n",
    "    D = first_deriv_matrix(x, w).toarray()\n",
    "\n",
    "    D = D[1:,1:]\n",
    "\n",
    "    scaled_eigs = -a*dt*np.linalg.eigvals(D)\n",
    "\n",
    "    plt.figure(figsize=(10,5))\n",
    "    for i in range(2):\n",
    "        plt.subplot(1, 2, i+1)\n",
    "        plt.plot(np.real(scaled_eigs), np.imag(scaled_eigs), '.')\n",
    "        theta = np.linspace(0, 2*np.pi, 1000)\n",
    "        plt.plot(np.cos(theta)-1, np.sin(theta), '--')\n",
    "        if i == 0:\n",
    "            plt.title('Forward Euler')\n",
    "            plt.axis('equal')\n",
    "        else:\n",
    "            plt.xlim([-0.01, 0.01])\n",
    "\n",
    "    plt.figure(figsize=(10,5))\n",
    "    for i in range(2):\n",
    "        plt.subplot(1, 2, i+1)\n",
    "        plt.plot(np.real(scaled_eigs), np.imag(scaled_eigs), '.')\n",
    "        xf = np.linspace(-2, 0.1, 200)\n",
    "        yf = np.linspace(-2, 2, 400)\n",
    "        Xf, Yf = np.meshgrid(xf, yf)\n",
    "        Zf = Xf + 1j*Yf\n",
    "        R = 1 + Zf + Zf**2/2\n",
    "        mod_R = np.abs(R)\n",
    "        plt.contour(xf, yf, mod_R, levels=[1], linestyles='dashed')\n",
    "        if i == 0:\n",
    "            plt.title('RK2')\n",
    "            plt.axis('equal')\n",
    "        else:\n",
    "            plt.xlim([-0.01, 0.01])\n",
    "\n",
    "    plt.figure(figsize=(10,5))\n",
    "    for i in range(2):\n",
    "        plt.subplot(1, 2, i+1)\n",
    "        plt.plot(np.real(scaled_eigs), np.imag(scaled_eigs), '.')\n",
    "        xf = np.linspace(-3, 0.3, 300)\n",
    "        yf = np.linspace(-3, 3, 600)\n",
    "        Xf, Yf = np.meshgrid(xf, yf)\n",
    "        Zf = Xf + 1j*Yf\n",
    "        R = 1 + Zf + Zf**2/2 + Zf**3/6 + Zf**4/24\n",
    "        mod_R = np.abs(R)\n",
    "        plt.contour(xf, yf, mod_R, levels=[1], linestyles='dashed')\n",
    "        if i == 0:\n",
    "            plt.title('RK4')\n",
    "            plt.axis('equal')\n",
    "        else:\n",
    "            plt.xlim([-0.01, 0.01])"
   ]
  },
  {
   "cell_type": "code",
   "execution_count": null,
   "metadata": {},
   "outputs": [],
   "source": [
    "plot_eigenvalues(1.8, 50, 2.5, 1)"
   ]
  },
  {
   "cell_type": "code",
   "execution_count": null,
   "metadata": {},
   "outputs": [],
   "source": [
    "plot_eigenvalues(2.2, 150, 1.8, 2)"
   ]
  },
  {
   "cell_type": "code",
   "execution_count": null,
   "metadata": {},
   "outputs": [],
   "source": [
    "plot_eigenvalues(1.8, 50, 1.5, 3)"
   ]
  },
  {
   "cell_type": "code",
   "execution_count": null,
   "metadata": {},
   "outputs": [],
   "source": [
    "plot_eigenvalues(1.8, 50, 1.5, 4)"
   ]
  },
  {
   "cell_type": "code",
   "execution_count": null,
   "metadata": {},
   "outputs": [],
   "source": [
    "plot_eigenvalues(1.8, 50, 1.4, 5)"
   ]
  },
  {
   "cell_type": "code",
   "execution_count": null,
   "metadata": {},
   "outputs": [],
   "source": []
  }
 ],
 "metadata": {
  "kernelspec": {
   "display_name": "Python 3",
   "language": "python",
   "name": "python3"
  },
  "language_info": {
   "codemirror_mode": {
    "name": "ipython",
    "version": 3
   },
   "file_extension": ".py",
   "mimetype": "text/x-python",
   "name": "python",
   "nbconvert_exporter": "python",
   "pygments_lexer": "ipython3",
   "version": "3.7.3"
  }
 },
 "nbformat": 4,
 "nbformat_minor": 2
}
