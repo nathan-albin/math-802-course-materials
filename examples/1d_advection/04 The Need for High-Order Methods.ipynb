{
 "cells": [
  {
   "cell_type": "markdown",
   "metadata": {},
   "source": [
    "# The Need for High-Order Methods"
   ]
  },
  {
   "cell_type": "code",
   "execution_count": null,
   "metadata": {},
   "outputs": [],
   "source": [
    "import numpy as np\n",
    "import matplotlib.pyplot as plt\n",
    "import scipy.sparse as sp\n",
    "import scipy.sparse.linalg as sla\n",
    "import fd_tools as fd"
   ]
  },
  {
   "cell_type": "code",
   "execution_count": null,
   "metadata": {},
   "outputs": [],
   "source": [
    "def first_deriv_matrix_per(n, dx, w):\n",
    "    \n",
    "    I, J, data = [], [], []\n",
    "    p = (2*w+1)\n",
    "    c = fd.fd_coeff(1, 0, dx*np.arange(-w, w+1))\n",
    "    \n",
    "    for i in range(n):\n",
    "        I.extend(p*[i])\n",
    "        J.extend([(i+k)%n for k in range(-w, w+1)])\n",
    "        data.extend(c)\n",
    "    \n",
    "    return sp.csc_matrix((data, (I, J)))"
   ]
  },
  {
   "cell_type": "code",
   "execution_count": null,
   "metadata": {},
   "outputs": [],
   "source": [
    "def matrix_demo():\n",
    "    D = first_deriv_matrix_per(10, 1, 2)\n",
    "    print(np.round(D.toarray(), 3))\n",
    "    plt.spy(D)\n",
    "    \n",
    "matrix_demo()"
   ]
  },
  {
   "cell_type": "code",
   "execution_count": null,
   "metadata": {},
   "outputs": [],
   "source": [
    "def periodic_grid(xl, xu, n):\n",
    "    \"Generates a periodic grid.\"\n",
    "\n",
    "    dx = (xu-xl)/n\n",
    "    return xl + np.arange(n)*dx\n",
    "\n",
    "def periodic_advection_demo():\n",
    "    \n",
    "    # final time\n",
    "    T = 2000\n",
    "\n",
    "    # spatial grid\n",
    "    nx = 200\n",
    "    L = 20\n",
    "    x = periodic_grid(-L/2, L/2, nx)\n",
    "    dx = x[1] - x[0]\n",
    "    \n",
    "    # initial pulse\n",
    "    u0 = np.exp(-(x/4)**8)*np.sin(np.pi*x)\n",
    "    \n",
    "    for w in range(1,6):\n",
    "        \n",
    "        # create the derivative matrix\n",
    "        D = first_deriv_matrix_per(nx, dx, w)\n",
    "\n",
    "        # find the solution using a matrix exponential\n",
    "        u = sla.expm(-D*T)*u0\n",
    "        \n",
    "        # plot the results\n",
    "        plt.figure(figsize=(6,4))\n",
    "        plt.plot(x, u0, '--')\n",
    "        plt.plot(x, u)\n",
    "        plt.title('w = {}'.format(w))\n",
    "        \n",
    "periodic_advection_demo()"
   ]
  },
  {
   "cell_type": "code",
   "execution_count": null,
   "metadata": {},
   "outputs": [],
   "source": [
    "def dispersion_plots():\n",
    "\n",
    "    # spatial grid\n",
    "    nx = 200\n",
    "    L = 20\n",
    "    x = periodic_grid(-L/2, L/2, nx)\n",
    "    dx = x[1] - x[0]\n",
    "    \n",
    "    plt.figure(figsize=(10,6))\n",
    "    \n",
    "    # modes to sample\n",
    "    modes = 2*np.pi*np.arange(1,nx/2)/L\n",
    "\n",
    "    # plot the exact dispersion curve\n",
    "    plt.plot(modes, 0*modes+1, 'k--', label='exact')\n",
    "    \n",
    "    for w in range(5, 0, -1):\n",
    "        \n",
    "        # create the derivative matrix\n",
    "        D = first_deriv_matrix_per(nx, dx, w)\n",
    "        \n",
    "        # initialize eigenvalue locations\n",
    "        lam = np.zeros(len(modes))\n",
    "        \n",
    "        # loop over modes\n",
    "        for i, xi in enumerate(modes):\n",
    "            \n",
    "            # approximate eigenvalues\n",
    "            u = np.exp(1j*xi*x)\n",
    "            Du = D*u\n",
    "            lam[i] = np.linalg.norm(Du)/np.linalg.norm(u)\n",
    "            \n",
    "        # plot the numerical dispersion curve\n",
    "        plt.plot(modes, lam/modes, label='w = {}'.format(w))\n",
    "            \n",
    "    plt.legend()\n",
    "    \n",
    "dispersion_plots()"
   ]
  },
  {
   "cell_type": "code",
   "execution_count": null,
   "metadata": {},
   "outputs": [],
   "source": []
  }
 ],
 "metadata": {
  "kernelspec": {
   "display_name": "Python 3",
   "language": "python",
   "name": "python3"
  },
  "language_info": {
   "codemirror_mode": {
    "name": "ipython",
    "version": 3
   },
   "file_extension": ".py",
   "mimetype": "text/x-python",
   "name": "python",
   "nbconvert_exporter": "python",
   "pygments_lexer": "ipython3",
   "version": "3.7.3"
  }
 },
 "nbformat": 4,
 "nbformat_minor": 2
}
