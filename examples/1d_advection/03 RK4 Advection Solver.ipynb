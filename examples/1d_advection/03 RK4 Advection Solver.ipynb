{
 "cells": [
  {
   "cell_type": "markdown",
   "metadata": {},
   "source": [
    "# RK4 Advection Solver"
   ]
  },
  {
   "cell_type": "code",
   "execution_count": null,
   "metadata": {},
   "outputs": [],
   "source": [
    "import numpy as np\n",
    "import matplotlib.pyplot as plt\n",
    "import scipy.sparse as sp\n",
    "import fd_tools as fd"
   ]
  },
  {
   "cell_type": "markdown",
   "metadata": {},
   "source": [
    "## Introduction\n",
    "\n",
    "In this notebook, we'll experiment with an RK4-based numerical solver for the 1D advection problem.  Here's the derivative matrix function from last notebook."
   ]
  },
  {
   "cell_type": "code",
   "execution_count": null,
   "metadata": {},
   "outputs": [],
   "source": [
    "def first_deriv_matrix(x, w):\n",
    "    \n",
    "    I, J, data = [], [], []\n",
    "    n = len(x)\n",
    "    \n",
    "    # bias to the right until we can center\n",
    "    p = (2*w+1)\n",
    "    for i in range(w):\n",
    "        I.extend(p*[i])\n",
    "        J.extend(range(p))\n",
    "        data.extend(fd.fd_coeff(1, x[i], x[:p]))\n",
    "        \n",
    "    # now fill in centered differences\n",
    "    for i in range(w, n-w-1):\n",
    "        I.extend(p*[i])\n",
    "        J.extend(range(i-w, i+w+1))\n",
    "        data.extend(fd.fd_coeff(1, x[i], x[i-w:i+w+1]))\n",
    "\n",
    "    # bias to the left when we can't center anymore\n",
    "    for i in range(n-w-1, n):\n",
    "        I.extend(p*[i])\n",
    "        J.extend(range(n-p, n))\n",
    "        data.extend(fd.fd_coeff(1, x[i], x[n-p:]))\n",
    "        \n",
    "    return sp.csr_matrix((data, (I, J)))"
   ]
  },
  {
   "cell_type": "markdown",
   "metadata": {},
   "source": [
    "## RK4\n",
    "\n",
    "The RK4 method for the ODE $u'=f(u,t)$ takes the form\n",
    "\n",
    "\\begin{align*}\n",
    "k_1 &= \\Delta t f(U^j,t_j) & V_1 &= U^j + \\frac{1}{2}k_1\\\\\n",
    "k_2 &= \\Delta t f\\left(V_1, t_j+\\frac{\\Delta t}{2}\\right) & V_2 &= U^j + \\frac{1}{2}k_2\\\\\n",
    "k_3 &= \\Delta t f\\left(V_2, t_j+\\frac{\\Delta t}{2}\\right) & V_3 &= U^j + k_3\\\\\n",
    "k_4 &= \\Delta t f\\left(V_3, t_j+\\Delta t\\right)\\\\\n",
    "U^{j+1} &= U^j + \\frac{1}{6}\\left(k_1 + 2k_2 + 2k_3 + k_4\\right)\n",
    "\\end{align*}\n",
    "\n",
    "**NOTE:** I don't always compute the terms $V_1$, $V_2$ and $V_3$ explicitly, but they'll come in handy later in this notebook."
   ]
  },
  {
   "cell_type": "code",
   "execution_count": null,
   "metadata": {},
   "outputs": [],
   "source": [
    "def solve_advection_RK4(a, D, nx, dx, g, tf, cfl, n_ret):\n",
    "    \n",
    "    t_ret = []\n",
    "    u_ret = []\n",
    "    \n",
    "    # target step size\n",
    "    dt = cfl*(dx/a)\n",
    "\n",
    "    # number of time steps\n",
    "    nt = int(np.ceil(tf/dt))\n",
    "    \n",
    "    # fix time step\n",
    "    dt = tf/nt\n",
    "    \n",
    "    # initial data\n",
    "    u = np.zeros(nx)\n",
    "\n",
    "    t_ret.append(0)\n",
    "    u_ret.append(u.copy())\n",
    "    \n",
    "    ret_every = int(nt/n_ret)\n",
    "    \n",
    "    # iterate\n",
    "    for it in range(1,nt+1):\n",
    "        \n",
    "        k1 = -dt*a*D*u\n",
    "        V1 = u + k1/2\n",
    "        k2 = -dt*a*D*(V1)\n",
    "        V2 = u + k2/2\n",
    "        k3 = -dt*a*D*(V2)\n",
    "        V3 = u + k3\n",
    "        k4 = -dt*a*D*(V3)\n",
    "        u += (k1 + 2*k2 + 2*k3 + k4)/6\n",
    "        \n",
    "        t = it*dt\n",
    "        u[0] = g(t)\n",
    "\n",
    "        if it%ret_every == 0:\n",
    "            t_ret.append(t)\n",
    "            u_ret.append(u.copy())\n",
    "        \n",
    "    return t_ret, u_ret"
   ]
  },
  {
   "cell_type": "markdown",
   "metadata": {},
   "source": [
    "### Boundary conditions\n",
    "\n",
    "We'll start with zero initial data and have a wiggly pulse come in through the left boundary."
   ]
  },
  {
   "cell_type": "code",
   "execution_count": null,
   "metadata": {},
   "outputs": [],
   "source": [
    "def boundary(t):\n",
    "    \"\"\"\n",
    "    \"\"\"\n",
    "    t0 = 2\n",
    "    a = 10\n",
    "    p = 6\n",
    "    b = 6*np.pi\n",
    "    return np.exp(-a*(t-t0)**p)*np.cos(b*t)\n",
    "\n",
    "def boundary_demo():\n",
    "    t = np.linspace(0, 4, 1000)\n",
    "    plt.plot(t, boundary(t))\n",
    "boundary_demo()\n"
   ]
  },
  {
   "cell_type": "markdown",
   "metadata": {},
   "source": [
    "### Demo solver\n",
    "\n",
    "Here's an example solver.  You can play around with this and try to see if the CFL condition suggested by the absolute stability analysis seems to work.  (Hint: It doesn't.)"
   ]
  },
  {
   "cell_type": "code",
   "execution_count": null,
   "metadata": {},
   "outputs": [],
   "source": [
    "def solver_demo():\n",
    "    a = 1.8\n",
    "    xl, xu = 0, 18\n",
    "    nx = 1000\n",
    "    dx = (xu-xl)/(nx-1)\n",
    "    x = np.linspace(xl, xu, nx)\n",
    "    tf = 10\n",
    "\n",
    "    D = first_deriv_matrix(x, 1)\n",
    "\n",
    "    T, U = solve_advection_RK4(a, D, nx, dx, boundary, tf, 2.5/4, 5)\n",
    "\n",
    "    for t,u in zip(T, U):\n",
    "        plt.figure()\n",
    "        plt.plot(x, boundary(t - x/a), color='#aaaaaa')\n",
    "        plt.plot(x, u)\n",
    "        plt.title('t = {:.3f}'.format(t))\n",
    "        plt.ylim([-1,1])\n",
    "        \n",
    "solver_demo()"
   ]
  },
  {
   "cell_type": "markdown",
   "metadata": {},
   "source": [
    "### Fixing the boundary conditions\n",
    "\n",
    "The problem with stability is that we're not enforcing the correct intermediate boundary conditions.  Several ways to correct this can be found in [this paper](https://epubs.siam.org/doi/10.1137/0916072).  Below is one implementation.  It requires the exact evaluation of several time derivatives of the boundary value function."
   ]
  },
  {
   "cell_type": "code",
   "execution_count": null,
   "metadata": {},
   "outputs": [],
   "source": [
    "def boundary_derivs(t):\n",
    "    \"\"\"\n",
    "    Found using Mathematica\n",
    "    \"\"\"\n",
    "    t0 = 2\n",
    "    a = 10\n",
    "    p = 6\n",
    "    b = 6*np.pi\n",
    "    gp = (-(a*p*(t - t0)**p*np.cos(b*t)) + b*(-t + t0)*np.sin(b*t))*(np.exp(-a*(t - t0)**p)/(t - t0))\n",
    "    gpp =  ((-(b**2*(t - t0)**2) + a*p*(1 - p + a*p*(t - t0)**p)*(t - t0)**p)*np.cos(b*t) + \\\n",
    "             2*a*b*p*(t - t0)**(1 + p)*np.sin(b*t))*(np.exp(-a*(t - t0)**p)/(t - t0)**2)\n",
    "    gppp =  (-(a*p*(2 + 3*p*(-1 + a*(t - t0)**p) + \\\n",
    "               p**2*(1 - 3*a*(t - t0)**p + a**2*(t - t0)**(2*p)) - 3*b**2*(t - t0)**2)* \\\n",
    "             (t - t0)**p*np.cos(b*t)) + \\\n",
    "          b*(b**2*(t - t0)**2 - 3*a*p*(1 + p*(-1 + a*(t - t0)**p))*(t - t0)**p)*(t - t0)* \\\n",
    "           np.sin(b*t))*(np.exp(-a*(t - t0)**p)/(t - t0)**3)\n",
    "    \n",
    "    return gp, gpp, gppp\n",
    "                                                                     \n",
    "\n",
    "\n",
    "def solve_advection_RK4_fixed(a, D, nx, dx, g, g_derivs, tf, cfl, n_ret):\n",
    "    \n",
    "    t_ret = []\n",
    "    u_ret = []\n",
    "    \n",
    "    # target step size\n",
    "    dt = cfl*(dx/a)\n",
    "\n",
    "    # number of time steps\n",
    "    nt = int(np.ceil(tf/dt))\n",
    "    \n",
    "    # fix time step\n",
    "    dt = tf/nt\n",
    "    \n",
    "    # initial data\n",
    "    u = np.zeros(nx)\n",
    "\n",
    "    t_ret.append(0)\n",
    "    u_ret.append(u.copy())\n",
    "    \n",
    "    ret_every = int(nt/n_ret)\n",
    "    \n",
    "    # iterate\n",
    "    for it in range(1,nt+1):\n",
    "        \n",
    "        # get boundary conditions and derivatives\n",
    "        t = (it-1)*dt\n",
    "        gp, gpp, gppp = g_derivs(t)\n",
    "        \n",
    "        k1 = -dt*a*D*u\n",
    "        V1 = u + k1/2\n",
    "        V1[0] = u[0] + (dt/2)*gp\n",
    "        \n",
    "        k2 = -dt*a*D*(V1)\n",
    "        V2 = u + k2/2\n",
    "        V2[0] = V1[0] + (dt**2)/4*gpp\n",
    "        \n",
    "        k3 = -dt*a*D*(V2)\n",
    "        V3 = u + k3\n",
    "        V3[0] = V2[0] + (dt**3)/4*gppp\n",
    "        \n",
    "        k4 = -dt*a*D*(V3)\n",
    "        u += (k1 + 2*k2 + 2*k3 + k4)/6\n",
    "        u[0] = g(t+dt)\n",
    "\n",
    "        if it%ret_every == 0:\n",
    "            t_ret.append(t)\n",
    "            u_ret.append(u.copy())\n",
    "        \n",
    "    return t_ret, u_ret"
   ]
  },
  {
   "cell_type": "code",
   "execution_count": null,
   "metadata": {
    "scrolled": false
   },
   "outputs": [],
   "source": [
    "def fixed_solver_demo():\n",
    "    a = 1.8\n",
    "    xl, xu = 0, 18\n",
    "    nx = 1000\n",
    "    dx = (xu-xl)/(nx-1)\n",
    "    x = np.linspace(xl, xu, nx)\n",
    "    tf = 10\n",
    "\n",
    "    D = first_deriv_matrix(x, 1)\n",
    "\n",
    "    T, U = solve_advection_RK4_fixed(a, D, nx, dx, boundary, boundary_derivs, tf, 2.4, 5)\n",
    "\n",
    "    for t,u in zip(T, U):\n",
    "        plt.figure()\n",
    "        plt.plot(x, boundary(t - x/a), color='#aaaaaa')\n",
    "        plt.plot(x, u)\n",
    "        plt.title('t = {:.3f}'.format(t))\n",
    "        plt.ylim([-1,1])\n",
    "        \n",
    "fixed_solver_demo()"
   ]
  },
  {
   "cell_type": "code",
   "execution_count": null,
   "metadata": {},
   "outputs": [],
   "source": []
  }
 ],
 "metadata": {
  "kernelspec": {
   "display_name": "Python 3",
   "language": "python",
   "name": "python3"
  },
  "language_info": {
   "codemirror_mode": {
    "name": "ipython",
    "version": 3
   },
   "file_extension": ".py",
   "mimetype": "text/x-python",
   "name": "python",
   "nbconvert_exporter": "python",
   "pygments_lexer": "ipython3",
   "version": "3.7.3"
  }
 },
 "nbformat": 4,
 "nbformat_minor": 2
}
