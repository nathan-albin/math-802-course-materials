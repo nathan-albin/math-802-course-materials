{
 "cells": [
  {
   "cell_type": "markdown",
   "metadata": {},
   "source": [
    "# Grid Stabilization Demo"
   ]
  },
  {
   "cell_type": "code",
   "execution_count": null,
   "metadata": {},
   "outputs": [],
   "source": [
    "import numpy as np\n",
    "import matplotlib.pyplot as plt\n",
    "import scipy.sparse as sp\n",
    "import fd_tools as fd"
   ]
  },
  {
   "cell_type": "markdown",
   "metadata": {},
   "source": [
    "## Introduction\n",
    "\n",
    "This notebook demonstrates the grid stabilization technique presented in [this paper](https://doi.org/10.1016/j.jcp.2006.09.017) that can stabilize high-order advection solvers by adding a few off-grid points near boundaries.\n",
    "\n",
    "Once again, here is the code for creating a first derivative approximation.  Notice that it doesn't assume uniform grid spacing and, therefore, can work with the augmented grids from the paper with no modifications."
   ]
  },
  {
   "cell_type": "code",
   "execution_count": null,
   "metadata": {},
   "outputs": [],
   "source": [
    "def first_deriv_matrix(x, w):\n",
    "    \n",
    "    I, J, data = [], [], []\n",
    "    n = len(x)\n",
    "    \n",
    "    # bias to the right until we can center\n",
    "    p = (2*w+1)\n",
    "    for i in range(w):\n",
    "        I.extend(p*[i])\n",
    "        J.extend(range(p))\n",
    "        data.extend(fd.fd_coeff(1, x[i], x[:p]))\n",
    "        \n",
    "    # now fill in centered differences\n",
    "    for i in range(w, n-w-1):\n",
    "        I.extend(p*[i])\n",
    "        J.extend(range(i-w, i+w+1))\n",
    "        data.extend(fd.fd_coeff(1, x[i], x[i-w:i+w+1]))\n",
    "\n",
    "    # bias to the left when we can't center anymore\n",
    "    for i in range(n-w-1, n):\n",
    "        I.extend(p*[i])\n",
    "        J.extend(range(n-p, n))\n",
    "        data.extend(fd.fd_coeff(1, x[i], x[n-p:]))\n",
    "        \n",
    "    return sp.csr_matrix((data, (I, J)))"
   ]
  },
  {
   "cell_type": "markdown",
   "metadata": {},
   "source": [
    "Here I've implemented the grid stabilizations presented in the paper for $q$ up to 5.  (The stencils will have width $2q-1$ and be as centered as possible near the boundary."
   ]
  },
  {
   "cell_type": "code",
   "execution_count": null,
   "metadata": {},
   "outputs": [],
   "source": [
    "def stab_grid(xl, xu, nx, q):\n",
    "    \n",
    "    z_specs = [[], [], [0.21], [0.19], [0.13, 0.97]]\n",
    "    \n",
    "    if q > 5:\n",
    "        raise RuntimeError('Stabilized grid for q = {} not yet implemented'.format(q))\n",
    "    \n",
    "    # number of points on the uniform grid\n",
    "    z = z_specs[q-1]\n",
    "    n_unif = nx - 2*len(z)\n",
    "    dx = (xu-xl)/(n_unif-1)\n",
    "    \n",
    "    # add extra points and sort\n",
    "    x0 = sorted(list(range(n_unif)) + z + [n_unif-1-v for v in z])\n",
    "    \n",
    "    # scaled to desired domain\n",
    "    return xl + np.array(x0)*dx, dx\n"
   ]
  },
  {
   "cell_type": "markdown",
   "metadata": {},
   "source": [
    "Here is a demo showing the various grids for $q=1, 2, \\ldots, 5$ (bottom to top)."
   ]
  },
  {
   "cell_type": "code",
   "execution_count": null,
   "metadata": {},
   "outputs": [],
   "source": [
    "def stab_grid_demo():\n",
    "    plt.figure(figsize=(20,3))\n",
    "    for q in range(1,6):\n",
    "        x, _ = stab_grid(-1.8, 2.3, 15, q)\n",
    "        plt.plot(x, 0*x+q, 'o')\n",
    "stab_grid_demo()"
   ]
  },
  {
   "cell_type": "markdown",
   "metadata": {},
   "source": [
    "## Absolute stability\n",
    "\n",
    "Here are some absolute stability studies with the mofidied grids.  If you compare them with the second notebook, you should see why the modified grids allow for stability in the higher-order solvers."
   ]
  },
  {
   "cell_type": "code",
   "execution_count": null,
   "metadata": {},
   "outputs": [],
   "source": [
    "def plot_eigenvalues(a, nx, cfl, width):\n",
    "\n",
    "    x, dx = stab_grid(0, 1, nx, width)\n",
    "    \n",
    "    dt = cfl*(dx/a)\n",
    "\n",
    "    D = first_deriv_matrix(x, width).toarray()\n",
    "\n",
    "    D = D[1:,1:]\n",
    "\n",
    "    scaled_eigs = -a*dt*np.linalg.eigvals(D)\n",
    "\n",
    "    plt.figure(figsize=(10,5))\n",
    "    for i in range(2):\n",
    "        plt.subplot(1, 2, i+1)\n",
    "        plt.plot(np.real(scaled_eigs), np.imag(scaled_eigs), '.')\n",
    "        theta = np.linspace(0, 2*np.pi, 1000)\n",
    "        plt.plot(np.cos(theta)-1, np.sin(theta), '--')\n",
    "        if i == 0:\n",
    "            plt.title('Forward Euler')\n",
    "            plt.axis('equal')\n",
    "        else:\n",
    "            plt.xlim([-0.01, 0.01])\n",
    "\n",
    "    plt.figure(figsize=(10,5))\n",
    "    for i in range(2):\n",
    "        plt.subplot(1, 2, i+1)\n",
    "        plt.plot(np.real(scaled_eigs), np.imag(scaled_eigs), '.')\n",
    "        xf = np.linspace(-2, 0.1, 200)\n",
    "        yf = np.linspace(-2, 2, 400)\n",
    "        Xf, Yf = np.meshgrid(xf, yf)\n",
    "        Zf = Xf + 1j*Yf\n",
    "        R = 1 + Zf + Zf**2/2\n",
    "        mod_R = np.abs(R)\n",
    "        plt.contour(xf, yf, mod_R, levels=[1], linestyles='dashed')\n",
    "        if i == 0:\n",
    "            plt.title('RK2')\n",
    "            plt.axis('equal')\n",
    "        else:\n",
    "            plt.xlim([-0.01, 0.01])\n",
    "\n",
    "    plt.figure(figsize=(10,5))\n",
    "    for i in range(2):\n",
    "        plt.subplot(1, 2, i+1)\n",
    "        plt.plot(np.real(scaled_eigs), np.imag(scaled_eigs), '.')\n",
    "        xf = np.linspace(-3, 0.3, 300)\n",
    "        yf = np.linspace(-3, 3, 600)\n",
    "        Xf, Yf = np.meshgrid(xf, yf)\n",
    "        Zf = Xf + 1j*Yf\n",
    "        R = 1 + Zf + Zf**2/2 + Zf**3/6 + Zf**4/24\n",
    "        mod_R = np.abs(R)\n",
    "        plt.contour(xf, yf, mod_R, levels=[1], linestyles='dashed')\n",
    "        if i == 0:\n",
    "            plt.title('RK4')\n",
    "            plt.axis('equal')\n",
    "        else:\n",
    "            plt.xlim([-0.01, 0.01])"
   ]
  },
  {
   "cell_type": "code",
   "execution_count": null,
   "metadata": {},
   "outputs": [],
   "source": [
    "plot_eigenvalues(1.8, 50, 1.5, 3)"
   ]
  },
  {
   "cell_type": "code",
   "execution_count": null,
   "metadata": {},
   "outputs": [],
   "source": [
    "plot_eigenvalues(1.8, 50, 1.5, 4)"
   ]
  },
  {
   "cell_type": "code",
   "execution_count": null,
   "metadata": {},
   "outputs": [],
   "source": [
    "plot_eigenvalues(1.8, 50, 0.9, 5)"
   ]
  },
  {
   "cell_type": "markdown",
   "metadata": {},
   "source": [
    "## RK4 Solver\n",
    "\n",
    "Below is an RK4 solver for the advection problem using stabilized grids.  In this notebook, I got lazy and didn't implement the boundary condition corrections found in the third notebook.  As described in the paper linked from that notebook, a side-effect is that the CFL number will be smaller.  The point for this notebook is that the stabilization works."
   ]
  },
  {
   "cell_type": "code",
   "execution_count": null,
   "metadata": {},
   "outputs": [],
   "source": [
    "def solve_advection_RK4(a, D, nx, dx, g, tf, cfl, n_ret):\n",
    "    \n",
    "    t_ret = []\n",
    "    u_ret = []\n",
    "    \n",
    "    # target step size\n",
    "    dt = cfl*(dx/a)\n",
    "\n",
    "    # number of time steps\n",
    "    nt = int(np.ceil(tf/dt))\n",
    "    \n",
    "    # fix time step\n",
    "    dt = tf/nt\n",
    "    \n",
    "    # initial data\n",
    "    u = np.zeros(nx)\n",
    "\n",
    "    t_ret.append(0)\n",
    "    u_ret.append(u.copy())\n",
    "    \n",
    "    ret_every = int(nt/n_ret)\n",
    "    \n",
    "    # iterate\n",
    "    for it in range(1,nt+1):\n",
    "        \n",
    "        k1 = -dt*a*D*u\n",
    "        k2 = -dt*a*D*(u + k1/2)\n",
    "        k3 = -dt*a*D*(u + k2/2)\n",
    "        k4 = -dt*a*D*(u + k3)\n",
    "        u += (k1 + 2*k2 + 2*k3 + k4)/6\n",
    "        \n",
    "        t = it*dt\n",
    "        u[0] = g(t)\n",
    "\n",
    "        if it%ret_every == 0:\n",
    "            t_ret.append(t)\n",
    "            u_ret.append(u.copy())\n",
    "        \n",
    "    return t_ret, u_ret\n",
    "\n",
    "def boundary(t):\n",
    "    return np.exp(-10*(t-2)**6)*np.cos(6*np.pi*t)\n",
    "\n",
    "def boundary_demo():\n",
    "    t = np.linspace(0, 4, 1000)\n",
    "    plt.plot(t, boundary(t))\n",
    "boundary_demo()\n"
   ]
  },
  {
   "cell_type": "code",
   "execution_count": null,
   "metadata": {
    "scrolled": false
   },
   "outputs": [],
   "source": [
    "def solver_demo(nx, width):\n",
    "    a = 1.8\n",
    "    xl, xu = 0, 18\n",
    "    tf = 20\n",
    "    \n",
    "    # I didn't try very hard to tune these, they could \n",
    "    # be improved by fixing the RK4 boundary conditions\n",
    "    cfl_specs = [1.4, 1.15, 0.3, 0.25, 0.175]\n",
    "    \n",
    "    if width > 5:\n",
    "        raise RuntimeError('Stabilized grid for width = {} not implemented'.format(width))\n",
    "\n",
    "    cfl = cfl_specs[width-1]\n",
    "\n",
    "    x, dx = stab_grid(xl, xu, nx, width)\n",
    "    \n",
    "    D = first_deriv_matrix(x, width)\n",
    "    T, U = solve_advection_RK4(a, D, nx, dx, boundary, tf, cfl, 10)\n",
    "\n",
    "    for t,u in zip(T, U):\n",
    "        plt.figure(figsize=(12, 4))\n",
    "        plt.subplot(1, 2, 1)\n",
    "        plt.plot(x, boundary(t - x/a), color='#aaaaaa')\n",
    "        plt.plot(x, u)\n",
    "        plt.title('t = {:.3f}'.format(t))\n",
    "        plt.ylim([-1,1])\n",
    "        plt.subplot(1, 2, 2)\n",
    "        plt.plot(x, u -  boundary(t - x/a))\n",
    "        plt.title('t = {:.3f}'.format(t))"
   ]
  },
  {
   "cell_type": "code",
   "execution_count": null,
   "metadata": {
    "scrolled": false
   },
   "outputs": [],
   "source": [
    "solver_demo(400, 5)"
   ]
  },
  {
   "cell_type": "code",
   "execution_count": null,
   "metadata": {},
   "outputs": [],
   "source": []
  }
 ],
 "metadata": {
  "kernelspec": {
   "display_name": "Python 3",
   "language": "python",
   "name": "python3"
  },
  "language_info": {
   "codemirror_mode": {
    "name": "ipython",
    "version": 3
   },
   "file_extension": ".py",
   "mimetype": "text/x-python",
   "name": "python",
   "nbconvert_exporter": "python",
   "pygments_lexer": "ipython3",
   "version": "3.7.3"
  }
 },
 "nbformat": 4,
 "nbformat_minor": 2
}
